{
 "cells": [
  {
   "cell_type": "markdown",
   "metadata": {},
   "source": [
    "This notebook is part of the various tests for scimap. It's intended to allow for visual evaluation of fits, etc."
   ]
  },
  {
   "cell_type": "code",
   "execution_count": 1,
   "metadata": {
    "collapsed": false
   },
   "outputs": [],
   "source": [
    "%load_ext autoreload\n",
    "%autoreload 2\n",
    "%matplotlib inline\n",
    "from matplotlib import pyplot as plt\n",
    "plt.xkcd()\n",
    "import pandas as pd\n",
    "import scimap\n",
    "import numpy as np"
   ]
  },
  {
   "cell_type": "markdown",
   "metadata": {},
   "source": [
    "## Prepare HDF File for Later Unit Tests\n"
   ]
  },
  {
   "cell_type": "code",
   "execution_count": null,
   "metadata": {
    "collapsed": false
   },
   "outputs": [],
   "source": [
    "scimap.import_aps_34IDE_map(\n",
    "    directory=\"test-data-xrd/xrd-map-34-ID-E/\",\n",
    "    wavelength=0.4959,\n",
    "    shape=scimap.shape(rows=13, columns=11),\n",
    "    step_size=scimap.default_units.um(1),                      \n",
    "    beamstop=0.49,                            \n",
    "    hdf_filename=\"test-data-xrd/xrd-map-34-ID-E.hdf\"\n",
    ");"
   ]
  },
  {
   "cell_type": "markdown",
   "metadata": {},
   "source": [
    "## Peak Fitting"
   ]
  },
  {
   "cell_type": "code",
   "execution_count": 6,
   "metadata": {
    "collapsed": false
   },
   "outputs": [
    {
     "name": "stdout",
     "output_type": "stream",
     "text": [
      "[ 25.63728865  35.22223165  37.88141048  41.74546075  43.46365474\n",
      "  52.68443192  57.6294002 ]\n",
      "1.5418666666666667\n"
     ]
    },
    {
     "name": "stderr",
     "output_type": "stream",
     "text": [
      "[autoreload of xrd.phase failed: Traceback (most recent call last):\n",
      "  File \"/usr/lib/python3.5/site-packages/IPython/extensions/autoreload.py\", line 247, in check\n",
      "    superreload(m, reload, self.old_objects)\n",
      "AttributeError: 'NoneType' object has no attribute 'unit_cell'\n",
      "]\n"
     ]
    },
    {
     "data": {
      "text/plain": [
       "array([ 1.80822894,  2.46585258,  2.64543732,  2.90382698,  3.0176798 ,\n",
       "        3.61645787,  3.92817384])"
      ]
     },
     "execution_count": 6,
     "metadata": {},
     "output_type": "execute_result"
    }
   ],
   "source": [
    "celref_peaks = [\n",
    "            ('012', 3.4746228816945104, 25.637288649553085),\n",
    "            ('104', 2.5479680737754244, 35.22223164557721),\n",
    "            ('110', 2.375, 37.88141047624646),\n",
    "            ('006', 2.1636666666666664, 41.74546075011751),\n",
    "            ('113', 2.0820345582756135, 43.46365474219995),\n",
    "            ('024', 1.7373114408472552, 52.68443192186963),\n",
    "            ('116', 1.5994489779586798, 57.62940019834231),\n",
    "]\n",
    "two_theta = np.array([p[2] for p in celref_peaks])\n",
    "print(two_theta)\n",
    "print(scimap.tubes['Cu'].kalpha)\n",
    "scimap.twotheta_to_q(two_theta, scimap.tubes['Cu'].kalpha)"
   ]
  },
  {
   "cell_type": "code",
   "execution_count": null,
   "metadata": {
    "collapsed": true
   },
   "outputs": [],
   "source": []
  }
 ],
 "metadata": {
  "kernelspec": {
   "display_name": "Python 3",
   "language": "python",
   "name": "python3"
  },
  "language_info": {
   "codemirror_mode": {
    "name": "ipython",
    "version": 3
   },
   "file_extension": ".py",
   "mimetype": "text/x-python",
   "name": "python",
   "nbconvert_exporter": "python",
   "pygments_lexer": "ipython3",
   "version": "3.5.2"
  }
 },
 "nbformat": 4,
 "nbformat_minor": 0
}
